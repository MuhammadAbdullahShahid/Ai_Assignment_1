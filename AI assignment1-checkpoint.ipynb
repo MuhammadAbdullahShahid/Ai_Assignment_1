{
 "cells": [
  {
   "cell_type": "code",
   "execution_count": 42,
   "id": "42a8e47c",
   "metadata": {},
   "outputs": [
    {
     "name": "stdout",
     "output_type": "stream",
     "text": [
      "This is M.Abdullah shahid\n",
      "who lives in a karachi\n"
     ]
    }
   ],
   "source": [
    "#1. Assign a message to a variable, and then print that message.\n",
    "hey = \"This is M.Abdullah shahid\"\n",
    "city = \"who lives in a karachi\"\n",
    "\n",
    "print(hey)\n",
    "print(city )"
   ]
  },
  {
   "cell_type": "code",
   "execution_count": 25,
   "id": "95a6925a",
   "metadata": {},
   "outputs": [
    {
     "name": "stdout",
     "output_type": "stream",
     "text": [
      "\"Never let the fear of striking out keep you from playing the game.\"\n",
      "\t\t\t\t\t\t\t\t --Babe Ruth, \n",
      "\n"
     ]
    }
   ],
   "source": [
    "#2. Find a quote from a famous person you admire. Print the quote and name of its author.\n",
    "\n",
    "#print(\"Babe Ruth:, \\n\" + quote)\n",
    "quote ='\"Never let the fear of striking out keep you from playing the game.\"'\n",
    "print( quote)\n",
    "print(\"\\t\\t\\t\\t\\t\\t\\t\\t --Babe Ruth, \\n\")"
   ]
  },
  {
   "cell_type": "code",
   "execution_count": 24,
   "id": "fd655eba",
   "metadata": {},
   "outputs": [
    {
     "name": "stdout",
     "output_type": "stream",
     "text": [
      "Enter a radius of a Circle: \n",
      "33\n",
      "Area of a Circle  = 3421.638\n"
     ]
    }
   ],
   "source": [
    "#3. Write a python program which accepts the radius of a circle from the user and compute the area.\n",
    "\n",
    "radius = float(input(\"Enter a radius of a Circle: \\n\"))\n",
    "area_of_circle = 3.142*radius*radius\n",
    "print(\"Area of a Circle  =\", area_of_circle)"
   ]
  },
  {
   "cell_type": "code",
   "execution_count": 26,
   "id": "54e656b7",
   "metadata": {},
   "outputs": [
    {
     "name": "stdout",
     "output_type": "stream",
     "text": [
      "Enter any Number: 0\n",
      "Zero Entered\n"
     ]
    }
   ],
   "source": [
    "#4. Write a Python program to check if a number is positive, negative or zero.\n",
    "\n",
    "num = int(input(\"Enter any Number: \"))\n",
    "if num < 0:\n",
    "    print(\"Number is negative \")\n",
    "elif num > 0 :\n",
    "    print(\"Number is Positive \")\n",
    "else:\n",
    "    print(\"Zero Entered\")"
   ]
  },
  {
   "cell_type": "code",
   "execution_count": 31,
   "id": "d8da1c3a",
   "metadata": {},
   "outputs": [
    {
     "name": "stdout",
     "output_type": "stream",
     "text": [
      "Enter a Letter: f\n",
      "f is not a vowel\n"
     ]
    }
   ],
   "source": [
    "#5. Write a Python program to test whether a passed letter is a vowel or not.\n",
    "\n",
    "alphabets=input(\"Enter a Letter: \")\n",
    "vowels=[\"A\",\"a\",\"E\",\"e\",\"I\",\"i\",\"O\",\"o\",\"U\",\"u\"]\n",
    "if alphabets in vowels:\n",
    "    print(alphabets, \"is a vowel\")\n",
    "else:\n",
    "    print(alphabets, \"is not a vowel\")"
   ]
  },
  {
   "cell_type": "code",
   "execution_count": 32,
   "id": "0a6586d6",
   "metadata": {},
   "outputs": [
    {
     "name": "stdout",
     "output_type": "stream",
     "text": [
      "Enter a Height in Centimenters: 170\n",
      "Enter Weight in kg: 70\n",
      "Your Body Mass Index is 24.221453287197235 kg/m^2\n"
     ]
    }
   ],
   "source": [
    "#6. Write a Python program to calculate body mass index.\n",
    "\n",
    "height=float(input(\"Enter a Height in Centimenters: \"))\n",
    "weight=float(input(\"Enter Weight in kg: \"))\n",
    "body_mass_index=weight/(height/100)**2\n",
    "print(\"Your Body Mass Index is =\",body_mass_index,\"kg/m^2\") "
   ]
  },
  {
   "cell_type": "code",
   "execution_count": 33,
   "id": "931b2608",
   "metadata": {},
   "outputs": [
    {
     "name": "stdout",
     "output_type": "stream",
     "text": [
      "usama\n",
      "umer\n",
      "Faiq\n",
      "hamza\n",
      "saleh\n"
     ]
    }
   ],
   "source": [
    "#7. Store the names of a few of your friends in a list called names.\n",
    "#Print each person’s name by accessing each element in the list, one at a time.\n",
    "\n",
    "names_of_friends=[\"usama\", \"umer\", \"Faiq\", \"hamza\", \"saleh\" ]\n",
    "print(names_of_friends[0])\n",
    "print(names_of_friends[1])\n",
    "print(names_of_friends[2])\n",
    "print(names_of_friends[3])\n",
    "print(names_of_friends[4])"
   ]
  },
  {
   "cell_type": "code",
   "execution_count": 35,
   "id": "22c0c0b6",
   "metadata": {},
   "outputs": [
    {
     "name": "stdout",
     "output_type": "stream",
     "text": [
      "usama You are my strength\n",
      "umer You are my strengt\n",
      "umer You are my strengt\n",
      "Faiq You are my strengt\n",
      "hamza You are my strengt\n",
      "saleh You are my strengt\n"
     ]
    }
   ],
   "source": [
    "#8. Start with the list you used in above Question , but instead of just printing each person’s name, print a message to \n",
    "#them.The text of each message should be the same, but each message should be personalized with the person’s name.\n",
    "\n",
    "names_of_friends=[\"usama\", \"umer\", \"Faiq\", \"hamza\", \"saleh\" ]\n",
    "print(names_of_friends[0], \"You are my strength\")\n",
    "print(names_of_friends[1], \"You are my strengt\")\n",
    "print(names_of_friends[1], \"You are my strengt\")\n",
    "print(names_of_friends[2], \"You are my strengt\")\n",
    "print(names_of_friends[3], \"You are my strengt\")\n",
    "print(names_of_friends[4], \"You are my strengt\")"
   ]
  },
  {
   "cell_type": "code",
   "execution_count": 37,
   "id": "e204eae1",
   "metadata": {},
   "outputs": [
    {
     "name": "stdout",
     "output_type": "stream",
     "text": [
      "First three items in list are : ['Mutton karahi', 'Biryani', 'Pulao']\n",
      "Middle three items in list are : ['Chicken Karahi', 'Nihari', 'Pasta', 'Pizza']\n",
      "last three items in the list are : ['Fish', 'kababs', 'Zinger']\n"
     ]
    }
   ],
   "source": [
    "#9. Make a python program that conatains your nine favourite dishes in a list called foods.Print first three items, middle\n",
    "# three items and last three items from the list.\n",
    "\n",
    "Foods=[\"Mutton karahi\",\"Biryani\", \"Pulao\", \"Chicken Karahi\", \"Nihari\", \"Pasta\", \"Pizza\", \"Fish\", \"kababs\", \"Zinger\"]\n",
    "print(\"First three items in list are :\", Foods[:3])\n",
    "print(\"Middle three items in list are :\", Foods[3:7])\n",
    "print(\"last three items in the list are :\", Foods[-3:])"
   ]
  },
  {
   "cell_type": "code",
   "execution_count": 38,
   "id": "fd9f433a",
   "metadata": {},
   "outputs": [
    {
     "name": "stdout",
     "output_type": "stream",
     "text": [
      "My Food \n",
      "\n",
      "My Favorite Foods are :  Mutton karahi\n",
      "My Favorite Foods are :  Biryani\n",
      "My Favorite Foods are :  Pulao\n",
      "My Favorite Foods are :  Chicken Karahi\n",
      "My Favorite Foods are :  Nihari\n",
      "My Favorite Foods are :  Pasta\n",
      "My Favorite Foods are :  Pizza\n",
      "My Favorite Foods are :  Fish\n",
      "My Favorite Foods are :  kababs\n",
      "My Favorite Foods are :  Zinger\n",
      "My Favorite Foods are :  Makronie\n",
      "\n",
      "My Friends Food\n",
      "\n",
      "My Friend's favorite foods are : Biryani\n",
      "My Friend's favorite foods are : Pulao\n",
      "My Friend's favorite foods are : Chicken Karahi\n",
      "My Friend's favorite foods are : Nihari\n",
      "My Friend's favorite foods are : Chinese\n",
      "My Friend's favorite foods are : Qorma\n",
      "My Friend's favorite foods are : Fish\n",
      "My Friend's favorite foods are : Malai Boti\n",
      "My Friend's favorite foods are : Zinger\n",
      "My Friend's favorite foods are : Roll\n",
      "My Friend's favorite foods are : chicken roast\n"
     ]
    }
   ],
   "source": [
    "#10. Start with your program from your last Question8. Make a copy of the list of foods, and call it friend_foods. \n",
    "# Then, do the following:\n",
    "# Add a new dish to the original list. Add a different dish to the list friend_foods.\n",
    "# Prove that you have two separate lists.\n",
    "# Print the message, My favorite pizzas are: and then use a for loop to print the first list.\n",
    "# Print the message, My friend’s favorite foods are:, and then use a for loop to print the second list.\n",
    "\n",
    "Foods=[\"Mutton karahi\",\"Biryani\", \"Pulao\", \"Chicken Karahi\", \"Nihari\", \"Pasta\", \"Pizza\", \"Fish\", \"kababs\", \"Zinger\"]\n",
    "Foods=[\"Mutton karahi\",\"Biryani\", \"Pulao\", \"Chicken Karahi\", \"Nihari\", \"Pasta\", \"Pizza\", \"Fish\", \"kababs\", \"Zinger\"]\n",
    "Foods.append(\"Makronie\")\n",
    "Friend_Foods.append(\"chicken roast\")\n",
    "print(\"My Food \" + \"\\n\")\n",
    "for food in Foods:\n",
    "    print(\"My Favorite Foods are : \",food)\n",
    "print(\"\\n\" + \"My Friends Food\" + \"\\n\")\n",
    "for Friend_Food in Friend_Foods:\n",
    "    print(\"My Friend's favorite foods are :\", Friend_Food)"
   ]
  },
  {
   "cell_type": "code",
   "execution_count": null,
   "id": "9c9bf715",
   "metadata": {},
   "outputs": [],
   "source": []
  }
 ],
 "metadata": {
  "kernelspec": {
   "display_name": "Python 3 (ipykernel)",
   "language": "python",
   "name": "python3"
  },
  "language_info": {
   "codemirror_mode": {
    "name": "ipython",
    "version": 3
   },
   "file_extension": ".py",
   "mimetype": "text/x-python",
   "name": "python",
   "nbconvert_exporter": "python",
   "pygments_lexer": "ipython3",
   "version": "3.9.12"
  }
 },
 "nbformat": 4,
 "nbformat_minor": 5
}
